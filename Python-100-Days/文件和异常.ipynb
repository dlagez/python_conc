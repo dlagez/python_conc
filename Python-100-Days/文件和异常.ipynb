{
 "metadata": {
  "language_info": {
   "codemirror_mode": {
    "name": "ipython",
    "version": 3
   },
   "file_extension": ".py",
   "mimetype": "text/x-python",
   "name": "python",
   "nbconvert_exporter": "python",
   "pygments_lexer": "ipython3",
   "version": "3.8.0"
  },
  "orig_nbformat": 2,
  "kernelspec": {
   "name": "python380jvsc74a57bd077665185498974e2aa551b3ed7ff3d92ad30b59c524e7ca2905901a81cbab4ea",
   "display_name": "Python 3.8.0 64-bit ('dataAna': conda)"
  }
 },
 "nbformat": 4,
 "nbformat_minor": 2,
 "cells": [
  {
   "cell_type": "code",
   "execution_count": 3,
   "metadata": {},
   "outputs": [],
   "source": [
    "def main():\n",
    "    f = open('../data/test.txt', 'r', encoding='utf-8')\n",
    "    print(f.read())\n",
    "    f.close()"
   ]
  },
  {
   "cell_type": "code",
   "execution_count": 4,
   "metadata": {},
   "outputs": [
    {
     "output_type": "stream",
     "name": "stdout",
     "text": [
      "123\n234\n345\n\n\n"
     ]
    }
   ],
   "source": [
    "main()"
   ]
  },
  {
   "cell_type": "code",
   "execution_count": 7,
   "metadata": {},
   "outputs": [],
   "source": [
    "def main():\n",
    "    f = None\n",
    "    try:\n",
    "        f = open('../data/test.txt', 'r', encoding='utf-8')\n",
    "        print(f.read())\n",
    "    except FileNotFoundError:\n",
    "        print(\"无法打开指定文件！\")\n",
    "    except LookupError:\n",
    "        print(\"制定了未知编码！\")\n",
    "    except UnicodeDecodeError:\n",
    "        print(\"读取文件时解码错误!\")\n",
    "    finally:\n",
    "        if f:\n",
    "            f.close()"
   ]
  },
  {
   "cell_type": "code",
   "execution_count": 9,
   "metadata": {},
   "outputs": [
    {
     "output_type": "stream",
     "name": "stdout",
     "text": [
      "123\n234\n345\n\n\n"
     ]
    }
   ],
   "source": [
    "main()"
   ]
  },
  {
   "cell_type": "code",
   "execution_count": 11,
   "metadata": {},
   "outputs": [],
   "source": [
    "def main():\n",
    "    try:\n",
    "        with open(\"../data/test.txt\", \"r\", encoding=\"utf-8\") as f:\n",
    "            print(f.read())\n",
    "    except FileNotFoundError:\n",
    "        print(\"无法打开指定文件！\")\n",
    "    except LookupError:\n",
    "        print(\"制定了未知编码！\")\n",
    "    except UnicodeDecodeError:\n",
    "        print(\"读取文件时解码错误!\")"
   ]
  },
  {
   "cell_type": "code",
   "execution_count": 12,
   "metadata": {},
   "outputs": [
    {
     "output_type": "stream",
     "name": "stdout",
     "text": [
      "123\n234\n345\n\n\n"
     ]
    }
   ],
   "source": [
    "main()"
   ]
  },
  {
   "cell_type": "code",
   "execution_count": 13,
   "metadata": {},
   "outputs": [],
   "source": [
    "import time\n",
    "\n",
    "def main():\n",
    "    with open(\"../data/test.txt\", \"r\", encoding=\"utf-8\") as f:\n",
    "        print(f.read())\n",
    "    with open(\"../data/test.txt\", mode=\"r\") as f:\n",
    "        for line in f:\n",
    "            print(line, end='')\n",
    "            time.sleep(0.5)\n",
    "    print()\n",
    "\n",
    "    with open(\"../data/test.txt\") as f:\n",
    "        lines = f.readlines()\n",
    "    print(lines)\n"
   ]
  },
  {
   "cell_type": "code",
   "execution_count": 14,
   "metadata": {},
   "outputs": [
    {
     "output_type": "stream",
     "name": "stdout",
     "text": [
      "123\n",
      "234\n",
      "345\n",
      "\n",
      "\n",
      "123\n",
      "234\n",
      "345\n",
      "\n",
      "\n",
      "['123\\n', '234\\n', '345\\n', '\\n']\n"
     ]
    }
   ],
   "source": [
    "main()"
   ]
  },
  {
   "cell_type": "code",
   "execution_count": 15,
   "metadata": {},
   "outputs": [],
   "source": [
    "from math import sqrt\n",
    "\n",
    "def is_prime(n):\n",
    "    # 判断素数的函数\n",
    "    assert n > 0\n",
    "    for factor in range(2, int(sqrt(n)) + 1):\n",
    "        if n % factor == 0:\n",
    "            return False\n",
    "    return True if n != 1 else False\n",
    "\n",
    "def main():\n",
    "    filenames = ('../data/a.txt', '../data/b.txt', '../data/c.txt')\n",
    "    fs_list = []\n",
    "    try:\n",
    "        for filename in filenames:\n",
    "            # 文件操作对象可以放到列表中\n",
    "            fs_list.append(open(filename, 'w', encoding='utf-8'))\n",
    "        for number in range(1, 10000):\n",
    "            if is_prime(number):\n",
    "                if number < 100:\n",
    "                    fs_list[0].write(str(number) + '\\n')\n",
    "                elif number < 1000:\n",
    "                    fs_list[1].write(str(number) + '\\n')\n",
    "                else:\n",
    "                    fs_list[2].write(str(number) + '\\n')\n",
    "    except IOError as ex:\n",
    "        print(ex)\n",
    "        print('写入文件时发生错误！')\n",
    "    finally:\n",
    "        for fs in fs_list:\n",
    "            fs.close()\n",
    "    print(\"操作完成！\") "
   ]
  },
  {
   "cell_type": "code",
   "execution_count": 16,
   "metadata": {},
   "outputs": [
    {
     "output_type": "stream",
     "name": "stdout",
     "text": [
      "操作完成！\n"
     ]
    }
   ],
   "source": [
    "main()"
   ]
  },
  {
   "cell_type": "code",
   "execution_count": 17,
   "metadata": {},
   "outputs": [],
   "source": [
    "# 读写图片\n",
    "def main():\n",
    "    try:\n",
    "        with open('../data/dog.jpg', 'rb') as fs1:\n",
    "            data = fs1.read()\n",
    "            print(type(data))  # <class 'bytes'>\n",
    "        with open('../data/吉多.jpg', 'wb') as fs2:\n",
    "            fs2.write(data)\n",
    "    except FileNotFoundError as e:\n",
    "        print('指定的文件无法打开.')\n",
    "    except IOError as e:\n",
    "        print('读写文件时出现错误.')\n",
    "    print('程序执行结束.')\n",
    "\n"
   ]
  },
  {
   "cell_type": "code",
   "execution_count": 18,
   "metadata": {},
   "outputs": [
    {
     "output_type": "stream",
     "name": "stdout",
     "text": [
      "<class 'bytes'>\n程序执行结束.\n"
     ]
    }
   ],
   "source": [
    "\n",
    "if __name__ == '__main__':\n",
    "    main()"
   ]
  },
  {
   "cell_type": "code",
   "execution_count": 19,
   "metadata": {},
   "outputs": [
    {
     "output_type": "stream",
     "name": "stdout",
     "text": [
      "保存数据完成!\n"
     ]
    }
   ],
   "source": [
    "import json\n",
    "\n",
    "\n",
    "def main():\n",
    "    mydict = {\n",
    "        'name': '骆昊',\n",
    "        'age': 38,\n",
    "        'qq': 957658,\n",
    "        'friends': ['王大锤', '白元芳'],\n",
    "        'cars': [\n",
    "            {'brand': 'BYD', 'max_speed': 180},\n",
    "            {'brand': 'Audi', 'max_speed': 280},\n",
    "            {'brand': 'Benz', 'max_speed': 320}\n",
    "        ]\n",
    "    }\n",
    "    try:\n",
    "        with open('../data/data.json', 'w', encoding='utf-8') as fs:\n",
    "            json.dump(mydict, fs)\n",
    "    except IOError as e:\n",
    "        print(e)\n",
    "    print('保存数据完成!')\n",
    "\n",
    "\n",
    "if __name__ == '__main__':\n",
    "    main()"
   ]
  },
  {
   "cell_type": "code",
   "execution_count": 22,
   "metadata": {},
   "outputs": [
    {
     "output_type": "stream",
     "name": "stdout",
     "text": [
      "{'code': 230, 'msg': 'key错误或为空'}\n"
     ]
    }
   ],
   "source": [
    "import requests\n",
    "import json\n",
    "\n",
    "\n",
    "def main():\n",
    "    resp = requests.get('http://api.tianapi.com/guonei/?key=APIKey&num=10')\n",
    "    data_model = json.loads(resp.text)\n",
    "    print(data_model)\n",
    "    # for news in data_model['newslist']:\n",
    "    #     print(news['title'])\n",
    "\n",
    "\n",
    "if __name__ == '__main__':\n",
    "    main()"
   ]
  },
  {
   "cell_type": "code",
   "execution_count": null,
   "metadata": {},
   "outputs": [],
   "source": []
  }
 ]
}