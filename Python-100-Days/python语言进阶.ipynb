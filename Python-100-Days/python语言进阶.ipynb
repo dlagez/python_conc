{
 "metadata": {
  "language_info": {
   "codemirror_mode": {
    "name": "ipython",
    "version": 3
   },
   "file_extension": ".py",
   "mimetype": "text/x-python",
   "name": "python",
   "nbconvert_exporter": "python",
   "pygments_lexer": "ipython3",
   "version": "3.8.0"
  },
  "orig_nbformat": 2,
  "kernelspec": {
   "name": "python380jvsc74a57bd077665185498974e2aa551b3ed7ff3d92ad30b59c524e7ca2905901a81cbab4ea",
   "display_name": "Python 3.8.0 64-bit ('dataAna': conda)"
  }
 },
 "nbformat": 4,
 "nbformat_minor": 2,
 "cells": [
  {
   "cell_type": "code",
   "execution_count": 1,
   "metadata": {},
   "outputs": [],
   "source": [
    "prices = {\n",
    "    'AAPL': 191.88,\n",
    "    'GOOG': 1186.96,\n",
    "    'IBM': 149.24,\n",
    "    'ORCL': 48.44,\n",
    "    'ACN': 166.89,\n",
    "    'FB': 208.09,\n",
    "    'SYMC': 21.29\n",
    "}"
   ]
  },
  {
   "cell_type": "code",
   "execution_count": 4,
   "metadata": {},
   "outputs": [],
   "source": [
    "# 生成字典\n",
    "prices2 = {key: value for key, value in prices.items() if value > 100}"
   ]
  },
  {
   "cell_type": "code",
   "execution_count": 5,
   "metadata": {},
   "outputs": [
    {
     "output_type": "execute_result",
     "data": {
      "text/plain": [
       "{'AAPL': 191.88, 'GOOG': 1186.96, 'IBM': 149.24, 'ACN': 166.89, 'FB': 208.09}"
      ]
     },
     "metadata": {},
     "execution_count": 5
    }
   ],
   "source": [
    "prices2"
   ]
  },
  {
   "cell_type": "code",
   "execution_count": 6,
   "metadata": {},
   "outputs": [],
   "source": [
    "names = ['关羽', '张飞', '赵云', '马超', '黄忠']\n",
    "courses = ['语文', '数学', '英语']"
   ]
  },
  {
   "cell_type": "code",
   "execution_count": 7,
   "metadata": {},
   "outputs": [],
   "source": [
    "scores = [[None] * len(courses) for _ in range(len(names))]"
   ]
  },
  {
   "cell_type": "code",
   "execution_count": 8,
   "metadata": {},
   "outputs": [
    {
     "output_type": "execute_result",
     "data": {
      "text/plain": [
       "[[None, None, None],\n",
       " [None, None, None],\n",
       " [None, None, None],\n",
       " [None, None, None],\n",
       " [None, None, None]]"
      ]
     },
     "metadata": {},
     "execution_count": 8
    }
   ],
   "source": [
    "scores"
   ]
  },
  {
   "cell_type": "code",
   "execution_count": 11,
   "metadata": {},
   "outputs": [
    {
     "output_type": "stream",
     "name": "stdout",
     "text": [
      "[[32.0, None, None], [None, None, None], [None, None, None], [None, None, None], [None, None, None]]\n",
      "[[32.0, 32.0, None], [None, None, None], [None, None, None], [None, None, None], [None, None, None]]\n",
      "[[32.0, 32.0, 32.0], [None, None, None], [None, None, None], [None, None, None], [None, None, None]]\n",
      "[[32.0, 32.0, 32.0], [43.0, None, None], [None, None, None], [None, None, None], [None, None, None]]\n",
      "[[32.0, 32.0, 32.0], [43.0, 23.0, None], [None, None, None], [None, None, None], [None, None, None]]\n",
      "[[32.0, 32.0, 32.0], [43.0, 23.0, 23.0], [None, None, None], [None, None, None], [None, None, None]]\n",
      "[[32.0, 32.0, 32.0], [43.0, 23.0, 23.0], [32.0, None, None], [None, None, None], [None, None, None]]\n",
      "[[32.0, 32.0, 32.0], [43.0, 23.0, 23.0], [32.0, 23.0, None], [None, None, None], [None, None, None]]\n",
      "[[32.0, 32.0, 32.0], [43.0, 23.0, 23.0], [32.0, 23.0, 23.0], [None, None, None], [None, None, None]]\n",
      "[[32.0, 32.0, 32.0], [43.0, 23.0, 23.0], [32.0, 23.0, 23.0], [23.0, None, None], [None, None, None]]\n",
      "[[32.0, 32.0, 32.0], [43.0, 23.0, 23.0], [32.0, 23.0, 23.0], [23.0, 23.0, None], [None, None, None]]\n",
      "[[32.0, 32.0, 32.0], [43.0, 23.0, 23.0], [32.0, 23.0, 23.0], [23.0, 23.0, 23.0], [None, None, None]]\n",
      "[[32.0, 32.0, 32.0], [43.0, 23.0, 23.0], [32.0, 23.0, 23.0], [23.0, 23.0, 23.0], [23.0, None, None]]\n",
      "[[32.0, 32.0, 32.0], [43.0, 23.0, 23.0], [32.0, 23.0, 23.0], [23.0, 23.0, 23.0], [23.0, 23.0, None]]\n",
      "[[32.0, 32.0, 32.0], [43.0, 23.0, 23.0], [32.0, 23.0, 23.0], [23.0, 23.0, 23.0], [23.0, 23.0, 23.0]]\n"
     ]
    }
   ],
   "source": [
    "for row, name in enumerate(names):\n",
    "    for col, course in enumerate(courses):\n",
    "        scores[row][col] = float(input(f'请输入{name}的{course}成绩：'))\n",
    "        print(scores)"
   ]
  },
  {
   "cell_type": "code",
   "execution_count": 12,
   "metadata": {},
   "outputs": [],
   "source": [
    "# 大跟堆\n",
    "import heapq\n",
    "\n",
    "list1 = [34, 25, 12, 99, 87, 63, 58, 78, 88, 92]\n",
    "list2 = [\n",
    "    {'name': 'IBM', 'shares': 100, 'price': 91.1},\n",
    "    {'name': 'AAPL', 'shares': 50, 'price': 543.22},\n",
    "    {'name': 'FB', 'shares': 200, 'price': 21.09},\n",
    "    {'name': 'HPQ', 'shares': 35, 'price': 31.75},\n",
    "    {'name': 'YHOO', 'shares': 45, 'price': 16.35},\n",
    "    {'name': 'ACME', 'shares': 75, 'price': 115.65}\n",
    "]"
   ]
  },
  {
   "cell_type": "code",
   "execution_count": 13,
   "metadata": {},
   "outputs": [
    {
     "output_type": "stream",
     "name": "stdout",
     "text": [
      "[99, 92, 88]\n"
     ]
    }
   ],
   "source": [
    "print(heapq.nlargest(3, list1))"
   ]
  },
  {
   "cell_type": "code",
   "execution_count": 14,
   "metadata": {},
   "outputs": [
    {
     "output_type": "stream",
     "name": "stdout",
     "text": [
      "[12, 25, 34]\n"
     ]
    }
   ],
   "source": [
    "print(heapq.nsmallest(3, list1))"
   ]
  },
  {
   "cell_type": "code",
   "execution_count": 15,
   "metadata": {},
   "outputs": [
    {
     "output_type": "stream",
     "name": "stdout",
     "text": [
      "[{'name': 'AAPL', 'shares': 50, 'price': 543.22}, {'name': 'ACME', 'shares': 75, 'price': 115.65}]\n"
     ]
    }
   ],
   "source": [
    "print(heapq.nlargest(2, list2, key=lambda x: x['price']))"
   ]
  },
  {
   "cell_type": "code",
   "execution_count": 19,
   "metadata": {},
   "outputs": [
    {
     "output_type": "stream",
     "name": "stdout",
     "text": [
      "[{'name': 'FB', 'shares': 200, 'price': 21.09}, {'name': 'IBM', 'shares': 100, 'price': 91.1}]\n"
     ]
    }
   ],
   "source": [
    "print(heapq.nlargest(2, list2, key=lambda x: x['shares']))"
   ]
  },
  {
   "cell_type": "code",
   "execution_count": 23,
   "metadata": {},
   "outputs": [
    {
     "output_type": "execute_result",
     "data": {
      "text/plain": [
       "[('A', 'B', 'C', 'D'),\n",
       " ('A', 'B', 'D', 'C'),\n",
       " ('A', 'C', 'B', 'D'),\n",
       " ('A', 'C', 'D', 'B'),\n",
       " ('A', 'D', 'B', 'C'),\n",
       " ('A', 'D', 'C', 'B'),\n",
       " ('B', 'A', 'C', 'D'),\n",
       " ('B', 'A', 'D', 'C'),\n",
       " ('B', 'C', 'A', 'D'),\n",
       " ('B', 'C', 'D', 'A'),\n",
       " ('B', 'D', 'A', 'C'),\n",
       " ('B', 'D', 'C', 'A'),\n",
       " ('C', 'A', 'B', 'D'),\n",
       " ('C', 'A', 'D', 'B'),\n",
       " ('C', 'B', 'A', 'D'),\n",
       " ('C', 'B', 'D', 'A'),\n",
       " ('C', 'D', 'A', 'B'),\n",
       " ('C', 'D', 'B', 'A'),\n",
       " ('D', 'A', 'B', 'C'),\n",
       " ('D', 'A', 'C', 'B'),\n",
       " ('D', 'B', 'A', 'C'),\n",
       " ('D', 'B', 'C', 'A'),\n",
       " ('D', 'C', 'A', 'B'),\n",
       " ('D', 'C', 'B', 'A')]"
      ]
     },
     "metadata": {},
     "execution_count": 23
    }
   ],
   "source": [
    "# itertools模块\n",
    "import itertools\n",
    "\n",
    "list(itertools.permutations(\"ABCD\"))"
   ]
  },
  {
   "cell_type": "code",
   "execution_count": 24,
   "metadata": {},
   "outputs": [
    {
     "output_type": "execute_result",
     "data": {
      "text/plain": [
       "[('A', 'B', 'C'),\n",
       " ('A', 'B', 'D'),\n",
       " ('A', 'B', 'E'),\n",
       " ('A', 'C', 'D'),\n",
       " ('A', 'C', 'E'),\n",
       " ('A', 'D', 'E'),\n",
       " ('B', 'C', 'D'),\n",
       " ('B', 'C', 'E'),\n",
       " ('B', 'D', 'E'),\n",
       " ('C', 'D', 'E')]"
      ]
     },
     "metadata": {},
     "execution_count": 24
    }
   ],
   "source": [
    "list(itertools.combinations('ABCDE', 3))"
   ]
  },
  {
   "cell_type": "code",
   "execution_count": 25,
   "metadata": {},
   "outputs": [
    {
     "output_type": "error",
     "ename": "SyntaxError",
     "evalue": "invalid syntax (<ipython-input-25-a51116f87ee2>, line 1)",
     "traceback": [
      "\u001b[0;36m  File \u001b[0;32m\"<ipython-input-25-a51116f87ee2>\"\u001b[0;36m, line \u001b[0;32m1\u001b[0m\n\u001b[0;31m    def select_sort(items comp=lambda x, y: x < y):\u001b[0m\n\u001b[0m                          ^\u001b[0m\n\u001b[0;31mSyntaxError\u001b[0m\u001b[0;31m:\u001b[0m invalid syntax\n"
     ]
    }
   ],
   "source": []
  },
  {
   "cell_type": "code",
   "execution_count": null,
   "metadata": {},
   "outputs": [],
   "source": []
  }
 ]
}